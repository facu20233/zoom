{
  "cells": [
    {
      "cell_type": "code",
      "execution_count": 2,
      "metadata": {
        "id": "YhgD19kkgXmf"
      },
      "outputs": [],
      "source": [
        "import numpy as np"
      ]
    },
    {
      "cell_type": "markdown",
      "metadata": {
        "id": "yUxsMA5Zs5iY"
      },
      "source": [
        "# RESOLUCIÓN DE SISTEMAS DE ECUACIONES LINEALES."
      ]
    },
    {
      "cell_type": "markdown",
      "metadata": {
        "id": "stkGTIBQtNu-"
      },
      "source": [
        "## Conceptos fundamentales de matrices.\n"
      ]
    },
    {
      "cell_type": "markdown",
      "metadata": {
        "id": "fo-0eoI3uejG"
      },
      "source": [
        "\n",
        "Es fundamental el concepto básico de matrices, pues definimos los sistemas de $n$ incógnitas con ellas.  Más que nada por la fácilidad que ofrece a la hora de expresarlas.\n",
        "No es lo mismo escribir:\n",
        "\n",
        "\\begin{align}\n",
        "  a_{1,1}x_1 + a_{1,2}x_2 + \\ldots + a_{1,n}x_n &= b_1 \\\\\n",
        "  a_{2,1}x_1 + a_{2,2}x_2 + \\ldots + a_{2,n}x_n &= b_2 \\\\\n",
        "  \\vdots \\quad &\\quad \\vdots \\\\\n",
        "  a_{n,1}x_1 + a_{n,2}x_2 + \\ldots + a_{n,n}x_n &= b_n\n",
        "\\end{align}\n",
        "\n",
        "Que escribir:\n",
        "\n",
        "$$\n",
        "Ax=b\\quad\\text{con}\\quad A∈\\mathbb{R}^{n \\times n},\\,x\\in\\mathbb{R}^{n},\\,b\\in\\mathbb{R}^{n}\n",
        "$$\n",
        "\n",
        "En este curso, las matrices que nos interesan van a ser:\n",
        "\n",
        "*   Matriz transpuesta:\n",
        "*   Matriz simetrica:\n",
        "*   Matriz ortonormal:\n",
        "*   Matriz triangular superior:\n",
        "*   Matriz triangular inferior:\n",
        "*   Matriz de banda:\n",
        "*   Matrices densas:\n",
        "*   Matrices ralas (sparse):\n",
        "\n",
        "\n",
        "\n",
        "\n",
        "\n"
      ]
    },
    {
      "cell_type": "markdown",
      "metadata": {
        "id": "fKW87l4XtBzf"
      },
      "source": [
        "## Métodos directos.\n",
        "(Pág: 268 Chapra.)\n",
        "\n",
        "Hablar de: Que son los metodos directos, sistemas de matrices triangulares, una generalización a estos(Eliminación de Gauss)(Algoritmo de triangulación), Factorización LU\n",
        "\n",
        "Temas de errores de redondeo: Analisis Numerico. Pág 279. Sección 6.2.\n",
        "\n",
        "Variantes de la eliminación de Gauss: Método Gauss Jordan, Cholesky, Thomas\n"
      ]
    },
    {
      "cell_type": "markdown",
      "metadata": {
        "id": "RK29npZcfgWO"
      },
      "source": [
        "## Factorización LU\n"
      ]
    },
    {
      "cell_type": "code",
      "execution_count": null,
      "metadata": {
        "colab": {
          "base_uri": "https://localhost:8080/"
        },
        "id": "t3EV9U0affP-",
        "outputId": "6c35b6ee-214e-4a85-c589-ce617dc44813"
      },
      "outputs": [
        {
          "name": "stdout",
          "output_type": "stream",
          "text": [
            "[ 0.375  1.    -0.25 ]\n"
          ]
        }
      ],
      "source": [
        "def triangulacion(A,b,n):\n",
        "  for k in range(n):\n",
        "    for i in range(k+1,n):\n",
        "      A[i,k] = A[i,k]/A[k,k]\n",
        "      for j in range(k+1,n):\n",
        "        A[i,j] = A[i,j] - A[i,k]*A[k,j]\n",
        "  return sustitucion(A,b,n)\n",
        "\n",
        "def sustitucion(A,b,n):\n",
        "  x = np.copy(b)\n",
        "  #Resolucion de Ly=b\n",
        "  #x[0] = b[0]\n",
        "  for k in range(1,n):\n",
        "    sum = 0\n",
        "    for j in range(k):\n",
        "      sum = sum + A[k,j]*x[j]\n",
        "    x[k] = b[k]-sum\n",
        "\n",
        "  #Resolucion de Ux=y\n",
        "  x[n-1] = x[n-1]/A[n-1,n-1]\n",
        "  for i in range(n-2,-1,-1):\n",
        "    sum = 0\n",
        "    for j in range(i+1,n):\n",
        "      sum += A[i,j]*x[j]\n",
        "    x[i] = (x[i]-sum)/A[i,i]\n",
        "\n",
        "  return x\n",
        "\n",
        "A = np.matrix([[2,1,-1],[1,2,0],[1,1,-2]])\n",
        "b = np.array([2,2,0.5])\n",
        "\n",
        "x = triangulacion(A.copy(),b.copy(),3)\n",
        "print(x)"
      ]
    },
    {
      "cell_type": "markdown",
      "metadata": {
        "id": "sWFWTaAkq9r7"
      },
      "source": [
        "## Método de Cholesky"
      ]
    },
    {
      "cell_type": "code",
      "execution_count": 4,
      "metadata": {
        "id": "rNI4w_iCrLf7"
      },
      "outputs": [],
      "source": [
        "import numpy as np\n",
        "\n",
        "def cholesky(A,n):\n",
        "  for k in range(n):\n",
        "    for i in range(k-1):\n",
        "      sum = 0\n",
        "      for j in range(i-1):\n",
        "        sum += A[i,j]*A[k,j]\n",
        "      A[k,i] = (A[k,i]-sum)/A[i,i]\n",
        "    sum=0\n",
        "    for j in range(k-1):\n",
        "      sum += A[k,j]**2\n",
        "    A[k,k] = np.sqrt(A[k,k]-sum)\n",
        "\n",
        "A = np.matrix([[6,15,55],\n",
        "              [15,55,225],\n",
        "              [55,225,979]],dtype=\"float\")\n",
        "\n",
        "cholesky(A,3)"
      ]
    },
    {
      "cell_type": "markdown",
      "metadata": {
        "id": "rQ6vVDE4LD4v"
      },
      "source": [
        "## Método de Thomas\n"
      ]
    },
    {
      "cell_type": "code",
      "execution_count": 5,
      "metadata": {
        "colab": {
          "base_uri": "https://localhost:8080/"
        },
        "id": "oaHpagkWLGjn",
        "outputId": "6c80f083-238a-45d2-d1c5-9eed6c373b3a"
      },
      "outputs": [
        {
          "name": "stdout",
          "output_type": "stream",
          "text": [
            "[ 65.96983437  93.77846211 124.53822833 159.47952369]\n"
          ]
        }
      ],
      "source": [
        "def thomas(A,b,n):\n",
        "  #Descomposición\n",
        "  for k in range(1,n):\n",
        "    A[k,k-1] = A[k,k-1]/A[k-1,k-1] #e_k\n",
        "    A[k,k] = A[k,k] - A[k,k-1] *A[k-1,k] #f_k = f_k - e_k * g_k-1\n",
        "  #Sustición hacia adelante.\n",
        "    b[k] = b[k] - A[k,k-1] * b[k-1]\n",
        "\n",
        "  #Sustitución hacia atrás.\n",
        "  x = np.zeros(n)\n",
        "  x[n-1] = b[n-1]/A[n-1,n-1]\n",
        "  for k in range(n-2,-1,-1):\n",
        "    x[k] = (b[k]-A[k,k+1]*x[k+1])/A[k,k]\n",
        "  return x\n",
        "\n",
        "A = np.matrix([[2.04,-1,0,0],\n",
        "               [-1,2.04,-1,0],\n",
        "               [0,-1,2.04,-1],\n",
        "               [0,0,-1,2.04]])\n",
        "b = np.array([40.8,0.8,0.8,200.8])\n",
        "\n",
        "x = thomas(A.copy(),b.copy(),4)\n",
        "print(x)"
      ]
    },
    {
      "cell_type": "markdown",
      "metadata": {
        "id": "F2RUXU84tHlm"
      },
      "source": [
        "## Métodos iterativos.\n",
        "\n",
        "(Analisis Numerico. Cap 7.)\n",
        "\n",
        "Explicar metodos iterativos."
      ]
    },
    {
      "cell_type": "markdown",
      "metadata": {
        "id": "cWvazNGd1MAR"
      },
      "source": [
        "## Gauss Jacobi"
      ]
    },
    {
      "cell_type": "code",
      "execution_count": null,
      "metadata": {
        "id": "C6eOLKSq15ZK"
      },
      "outputs": [],
      "source": [
        "def gauss_jacobi(A,b,x0,eps,it_max):\n",
        "  n = A.shape[0]\n",
        "  it = 0\n",
        "  x1 = x0 + 2*eps\n",
        "  err = np.max(np.abs(x1-x0))\n",
        "  while err > eps and it < it_max:\n",
        "      for i in range(n):\n",
        "        sum=0\n",
        "        for j in range(n):\n",
        "          if(j!=i):\n",
        "            sum+=A[i,j]*x0[j]\n",
        "        x1[i] = (b[i]-sum)/A[i,i]\n",
        "      err = np.max(np.abs(x1-x0))\n",
        "      x0=np.copy(x1)\n",
        "      it+=1\n",
        "  if (it<it_max):\n",
        "    print(f\"El vector solucion es {x1} en {it} iteraciones\")\n",
        "  else:\n",
        "    print(f\"El metodo no converge\")\n"
      ]
    },
    {
      "cell_type": "markdown",
      "metadata": {
        "id": "NhzG3u8r1N_R"
      },
      "source": [
        "## Gauss Seidel"
      ]
    },
    {
      "cell_type": "code",
      "execution_count": null,
      "metadata": {
        "id": "cSEzvErg4MVp"
      },
      "outputs": [],
      "source": [
        "def gauss_seidel(A,b,x0,eps,it_max):\n",
        "  n = A.shape[0]\n",
        "  it = 0\n",
        "  x1 = x0 + 2*eps\n",
        "  err = np.max(np.abs(x1-x0))\n",
        "  while err > eps and it < it_max:\n",
        "      for i in range(n):\n",
        "        sum=0\n",
        "        for j in range(i):\n",
        "          sum += A[i,j]*x1[j]\n",
        "        for j in range(i+1,n):\n",
        "          sum += A[i,j]*x0[j]\n",
        "        x1[i] = (b[i]-sum)/A[i,i]\n",
        "\n",
        "      err = np.max(np.abs(x1-x0))\n",
        "      x0=np.copy(x1)\n",
        "      it+=1\n",
        "  if (it<it_max):\n",
        "    print(f\"El vector solucion es {x1} en {it} iteraciones\")\n",
        "  else:\n",
        "    print(f\"El metodo no converge\")\n",
        "\n"
      ]
    },
    {
      "cell_type": "markdown",
      "metadata": {
        "id": "hWrDbdOL1TFw"
      },
      "source": [
        "## SOR"
      ]
    },
    {
      "cell_type": "code",
      "execution_count": null,
      "metadata": {
        "id": "G1clvzKr6Dzp"
      },
      "outputs": [],
      "source": [
        "def SOR(A,b,x0,omega,eps,it_max):\n",
        "  n = A.shape[0]\n",
        "  it = 0\n",
        "  x1 = x0 + 2*eps\n",
        "  err = np.max(np.abs(x1-x0))\n",
        "  while err > eps and it < it_max:\n",
        "      for i in range(n):\n",
        "        sum=0\n",
        "        for j in range(i):\n",
        "          sum += A[i,j]*x1[j]\n",
        "        for j in range(i+1,n):\n",
        "          sum += A[i,j]*x0[j]\n",
        "        x1[i] = (1-omega)*x0[i] + (b[i]-sum)*omega/A[i,i]\n",
        "\n",
        "      err = np.max(np.abs(x1-x0))\n",
        "      x0=np.copy(x1)\n",
        "      it+=1\n",
        "  if (it<it_max):\n",
        "    print(f\"El vector solucion es {x1} en {it} iteraciones\")\n",
        "  else:\n",
        "    print(f\"El metodo no converge\")\n",
        "\n"
      ]
    },
    {
      "cell_type": "markdown",
      "metadata": {
        "id": "NM1HraQC6-Vo"
      },
      "source": [
        "## Test de los métodos iterativos"
      ]
    },
    {
      "cell_type": "code",
      "execution_count": null,
      "metadata": {
        "colab": {
          "base_uri": "https://localhost:8080/"
        },
        "id": "7JmsfrLU7FwI",
        "outputId": "28fcc37c-eb18-4c4a-8fe3-b6b5bbd36f8f"
      },
      "outputs": [
        {
          "name": "stdout",
          "output_type": "stream",
          "text": [
            "El vector solucion es [ 0.49701058 -0.00251053  0.99428345] en 5 iteraciones\n",
            "El vector solucion es [4.99064626e-01 7.85552316e-04 1.00012715e+00] en 4 iteraciones\n",
            "El vector solucion es [0.49659269 0.00109966 1.00104059] en 21 iteraciones\n"
          ]
        }
      ],
      "source": [
        "A = np.matrix([[6,-2,1],\n",
        "               [-2,7,2],\n",
        "               [1,2,-5]],dtype=\"float\")\n",
        "b = np.array([4,1,-4.5])\n",
        "x0 = np.array([0,0,0])\n",
        "e = 0.01\n",
        "it=100\n",
        "\n",
        "\n",
        "gauss_jacobi(A.copy(),b.copy(),x0.copy(),e,it)\n",
        "gauss_seidel(A.copy(),b.copy(),x0.copy(),e,it)\n",
        "omega = 1.5\n",
        "SOR(A.copy(),b.copy(),x0.copy(),omega,e,it)"
      ]
    },
    {
      "cell_type": "markdown",
      "metadata": {
        "id": "rist4m0RNWea"
      },
      "source": [
        "# INTERPOLACIÓN POLINOMICA"
      ]
    },
    {
      "cell_type": "markdown",
      "metadata": {
        "id": "mF-3U3tTZkgq"
      },
      "source": [
        "## Diferencias Divididas"
      ]
    },
    {
      "cell_type": "code",
      "execution_count": null,
      "metadata": {
        "colab": {
          "base_uri": "https://localhost:8080/"
        },
        "id": "kufdWdLLFWxv",
        "outputId": "9dd00c97-eabe-4c18-a3de-168c810f6be7"
      },
      "outputs": [
        {
          "name": "stdout",
          "output_type": "stream",
          "text": [
            "580.5999999999999\n"
          ]
        }
      ],
      "source": [
        "def difDiv(x,d,n):\n",
        "  for i in range(1,n):\n",
        "    for j in range(n-1,i-1,-1):\n",
        "      d[j] = (d[j]-d[j-1])/(x[j]-x[j-i])\n",
        "  return d\n",
        "\n",
        "def newton_interpolacion(x,y,n,x0):\n",
        "  y = difDiv(x,y,n)\n",
        "  a = 1\n",
        "  for i in range(1,n):\n",
        "    a *= x0-x[i-1]\n",
        "    y[i] *= a\n",
        "\n",
        "  return np.sum(y)\n",
        "\n",
        "x = np.array([4,-4,7,6,2],dtype=\"float\")\n",
        "y = np.array([278,-242,1430,980,40],dtype=\"float\")\n",
        "valor = newton_interpolacion(np.copy(x),np.copy(y),5,5)\n",
        "print(valor)"
      ]
    },
    {
      "cell_type": "markdown",
      "metadata": {
        "id": "oWEHj0wyNZPZ"
      },
      "source": [
        "# INTEGRACIÓN NÚMERICA"
      ]
    },
    {
      "cell_type": "markdown",
      "metadata": {
        "id": "TXqQIYrwlq6E"
      },
      "source": [
        "## Trapecio compuesta"
      ]
    },
    {
      "cell_type": "code",
      "execution_count": null,
      "metadata": {
        "id": "VT84MBLRVo3i"
      },
      "outputs": [],
      "source": [
        "def trapecio_compuesto(f,a,b,n):\n",
        "  h = (b-a)/n\n",
        "  suma = 0\n",
        "  for i in range(1,n):\n",
        "    suma += f(a+i*h)\n",
        "  return h/2 * (f(a) + 2*suma + f(b))"
      ]
    },
    {
      "cell_type": "markdown",
      "metadata": {
        "id": "e9w0SlCKlcSt"
      },
      "source": [
        "## Simpson compuesta"
      ]
    },
    {
      "cell_type": "code",
      "execution_count": null,
      "metadata": {
        "id": "XkA5iT0iKOEq"
      },
      "outputs": [],
      "source": [
        "def simpson_compuesto(f,a,b,e):\n",
        "  inter = 0\n",
        "  In_0 = 0\n",
        "  In_1 = 2*e\n",
        "  error = abs(In_1-In_0)\n",
        "\n",
        "  while(error > e):\n",
        "      inter+=2\n",
        "      h = (b-a)/inter\n",
        "      sum = 0\n",
        "      #Impares\n",
        "      for i in range(1,inter,2):\n",
        "        sum += 4*f(a+i*h)\n",
        "      #Pares\n",
        "      for i in range(2,inter-1,2):\n",
        "        sum += 2*f(a+i*h)\n",
        "\n",
        "      In_0 = In_1\n",
        "      In_1 = h/3 * (f(a) + sum + f(b))\n",
        "      error = abs(In_1-In_0)\n",
        "\n",
        "\n",
        "\n",
        "  print(f\"- Valor de la integral: {In_1}\\n- error: {error}\\n- Intervalos necesarios: {inter}\")\n"
      ]
    }
  ],
  "metadata": {
    "colab": {
      "collapsed_sections": [
        "stkGTIBQtNu-",
        "RK29npZcfgWO",
        "sWFWTaAkq9r7",
        "rQ6vVDE4LD4v",
        "cWvazNGd1MAR",
        "NhzG3u8r1N_R",
        "hWrDbdOL1TFw",
        "NM1HraQC6-Vo"
      ],
      "provenance": []
    },
    "kernelspec": {
      "display_name": "Python 3",
      "name": "python3"
    },
    "language_info": {
      "codemirror_mode": {
        "name": "ipython",
        "version": 3
      },
      "file_extension": ".py",
      "mimetype": "text/x-python",
      "name": "python",
      "nbconvert_exporter": "python",
      "pygments_lexer": "ipython3",
      "version": "3.11.3"
    }
  },
  "nbformat": 4,
  "nbformat_minor": 0
}
