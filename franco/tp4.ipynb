{
 "cells": [
  {
   "cell_type": "code",
   "execution_count": null,
   "metadata": {},
   "outputs": [],
   "source": [
    "# import numpy as np\n",
    "\n",
    "# def DifDiv(x,y,n):\n",
    "#   for i in range(n):\n",
    "#       for j in range(n,i,-1):\n",
    "#           d[j] = (d[j]-d[j-1])/(x[j]-x[j-i])"
   ]
  },
  {
   "cell_type": "code",
   "execution_count": null,
   "metadata": {},
   "outputs": [],
   "source": [
    "import numpy as np\n",
    "\n",
    "def DifDiv(x, f):\n",
    "    n = len(x)  \n",
    "    D = np.zeros(n)  \n",
    "    c = 0  \n",
    "    \n",
    "    D[0] = f[0]\n",
    "    \n",
    "    for i in range(1, n):\n",
    "        c -= 1\n",
    "        \n",
    "        for j in range(n, i, -1):\n",
    "            j -= 1\n",
    "            f[j] = round((f[j] - f[j-1]) / (x[j] - x[j + c]), 5)\n",
    "            print(f[j])\n",
    "        \n",
    "        D[i] = f[i]\n",
    "    \n",
    "    print(D)\n",
    "    return D\n",
    "\n"
   ]
  },
  {
   "cell_type": "code",
   "execution_count": null,
   "metadata": {},
   "outputs": [],
   "source": [
    "import numpy as np\n",
    "import sympy as sym\n",
    "import decimal as dec\n",
    "\n",
    "def polinomioInterpolante(xi, fi, D):\n",
    "    x = sym.Symbol('x')\n",
    "    n = len(xi)\n",
    "    polinomio = 0\n",
    "\n",
    "\n",
    "    for i in range(1, n):\n",
    "        termino = 1\n",
    "        for j in range(0, i):\n",
    "            termino = termino * (x - xi[j])  \n",
    "            \n",
    "        polinomio = polinomio + (termino * D[i])  \n",
    "\n",
    "    polinomio = polinomio + D[0]\n",
    "    print(\"\\n***** Polinomio final *****\\n\")\n",
    "    print(polinomio)\n"
   ]
  },
  {
   "cell_type": "code",
   "execution_count": 27,
   "metadata": {},
   "outputs": [
    {
     "name": "stdout",
     "output_type": "stream",
     "text": [
      "235.0\n",
      "450.0\n",
      "152.0\n",
      "65.0\n",
      "43.0\n",
      "29.8\n",
      "29.0\n",
      "2.2\n",
      "0.4\n",
      "-0.9\n",
      "[278.   65.   29.    0.4  -0.9]\n",
      "[278.   65.   29.    0.4  -0.9]\n",
      "\n",
      "***** Polinomio final *****\n",
      "\n",
      "65.0*x - 0.9*(x - 7.0)*(x - 6.0)*(x - 4.0)*(x + 4.0) + 0.4*(x - 7.0)*(x - 4.0)*(x + 4.0) + 29.0*(x - 4.0)*(x + 4.0) + 18.0\n"
     ]
    }
   ],
   "source": [
    "import numpy as np\n",
    "import decimal as dec\n",
    "\n",
    "xi = np.array([4.,-4.,7.,6.,2.])\n",
    "fi = np.array([278.,-242.,1430.,980.,40.])\n",
    "\n",
    "D = DifDiv(xi,fi)\n",
    "\n",
    "print(D)\n",
    "polinomioInterpolante(xi,fi,D)"
   ]
  },
  {
   "cell_type": "code",
   "execution_count": null,
   "metadata": {},
   "outputs": [],
   "source": [
    "from scipy.interpolate import CubicSpline\n",
    "import numpy as np\n",
    "import matplotlib.pyplot as plt\n",
    "\n",
    "x = [0.9,1.3,1.9,2.1,2.6,3.0,3.9,4.4,4.7,5.0,6.0,7.0,8.0,9.2,10.5,11.3,11.6,12.0,12.6,13.0,13.3]\n",
    "y = [1.3,1.5,1.85,2.1,2.6,2.7,2.4,2.15,2.05,2.1,2.25,2.3,2.25,1.95,1.4,0.9,0.7,0.6,0.5,0.4,0.25]\n",
    "\n",
    "x1 = np.linspace(0.9,13.3,100)\n",
    "f = CubicSpline(x ,y) \n",
    "\n",
    "plt.plot(x,y) \n",
    "plt.scatter(x,y)\n",
    "plt.grid()"
   ]
  }
 ],
 "metadata": {
  "kernelspec": {
   "display_name": "Python 3",
   "language": "python",
   "name": "python3"
  },
  "language_info": {
   "codemirror_mode": {
    "name": "ipython",
    "version": 3
   },
   "file_extension": ".py",
   "mimetype": "text/x-python",
   "name": "python",
   "nbconvert_exporter": "python",
   "pygments_lexer": "ipython3",
   "version": "3.11.3"
  }
 },
 "nbformat": 4,
 "nbformat_minor": 2
}
