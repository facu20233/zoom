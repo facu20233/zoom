{
 "cells": [
  {
   "attachments": {
    "image.png": {
     "image/png": "[encoded data removed]"
    }
   },
   "cell_type": "markdown",
   "metadata": {},
   "source": [
    "![image.png](attachment:image.png)"
   ]
  },
  {
   "cell_type": "code",
   "execution_count": 34,
   "metadata": {},
   "outputs": [
    {
     "name": "stdout",
     "output_type": "stream",
     "text": [
      "integral 1.0688000000000115\n"
     ]
    }
   ],
   "source": [
    "import numpy as np\n",
    "\n",
    "def trapecio_compuesto(a, b, n, f):\n",
    "    h = (b - a) / n \n",
    "    suma = 0\n",
    "\n",
    "    for i in range(1, n):\n",
    "        xi = a + i * h #arranca x1\n",
    "        suma += f(xi)\n",
    "    \n",
    "    integral = (h / 2) * (f(a) + 2 * suma + f(b))\n",
    "    \n",
    "    print(\"integral\", integral)\n",
    "\n",
    "def g(x):\n",
    "    return 0.2 + 25 * x - 200 * x**2 + 675 * x**3 - 900 * x**4 + 400 * x**5\n",
    "\n",
    "# Ejemplo de uso:\n",
    "trapecio_compuesto(0, 0.8, 2, g)\n"
   ]
  },
  {
   "cell_type": "code",
   "execution_count": null,
   "metadata": {},
   "outputs": [],
   "source": [
    "def f(x):\n",
    "    return x**7 -15*x**3 +10*x+20\n",
    "\n",
    "a=0\n",
    "b=2\n",
    "n=6\n",
    "trapecio_compuesto(a,b,n,f)\n"
   ]
  },
  {
   "cell_type": "code",
   "execution_count": null,
   "metadata": {},
   "outputs": [],
   "source": [
    "import matplotlib.pyplot as plt\n",
    "import numpy as np\n",
    "\n",
    "x = np.linspace(0,2.2,1000)\n",
    "y = x**7 -15*x**3 +10*x+20\n",
    "\n",
    "plt.title('PUNTO1',size=20)\n",
    "plt.plot(x,y,':',color='b')\n",
    "plt.xlabel('x',size=10)\n",
    "plt.ylabel('y',size=10)\n",
    "plt.show()"
   ]
  },
  {
   "cell_type": "code",
   "execution_count": null,
   "metadata": {},
   "outputs": [],
   "source": [
    "trapecio_compuesto(0,0.8,3,f)"
   ]
  },
  {
   "cell_type": "code",
   "execution_count": null,
   "metadata": {},
   "outputs": [],
   "source": [
    "import math\n",
    "def j(x):\n",
    "    return math.sin(10*x)\n",
    "def g(x):\n",
    "    return math.exp(x**2)\n",
    "def h(x):\n",
    "    return np.log(x)"
   ]
  },
  {
   "cell_type": "code",
   "execution_count": null,
   "metadata": {},
   "outputs": [],
   "source": [
    "trapecio_compuesto(0,2,2228,j)"
   ]
  },
  {
   "cell_type": "code",
   "execution_count": null,
   "metadata": {},
   "outputs": [],
   "source": [
    "x = np.arange(0,2,.01)\n",
    "y = np.arange(-100,100,15)\n",
    "y = np.sin(10*x)*(-100)\n",
    "\n",
    "plt.plot(x,y)\n",
    "plt.title('PUNTO4',size=25)\n",
    "plt.xlabel('x',size=25)\n",
    "plt.ylabel('y',size=25)\n",
    "plt.show()"
   ]
  },
  {
   "cell_type": "code",
   "execution_count": null,
   "metadata": {},
   "outputs": [],
   "source": [
    "trapecio_compuesto(0,1,7071,g)"
   ]
  },
  {
   "cell_type": "code",
   "execution_count": null,
   "metadata": {},
   "outputs": [],
   "source": [
    "x = np.linspace(0,1,1000)\n",
    "y = np.exp(x**2)*(2 + 4*x**2)\n",
    "\n",
    "plt.plot(x,y)\n",
    "plt.title('PUNTO4',size=25)\n",
    "plt.xlabel('x',size=25)\n",
    "plt.ylabel('y',size=25)\n",
    "plt.show()"
   ]
  },
  {
   "cell_type": "code",
   "execution_count": null,
   "metadata": {},
   "outputs": [],
   "source": [
    "x = np.arange(1,10,1)\n",
    "y = -1/x**2\n",
    "\n",
    "plt.plot(x,y)\n",
    "plt.title('PUNTO4',size=25)\n",
    "plt.xlabel('x',size=25)\n",
    "plt.ylabel('y',size=25)\n",
    "plt.show()"
   ]
  },
  {
   "cell_type": "code",
   "execution_count": null,
   "metadata": {},
   "outputs": [],
   "source": [
    "trapecio_compuesto(1,10,27000,h)"
   ]
  },
  {
   "cell_type": "code",
   "execution_count": null,
   "metadata": {},
   "outputs": [],
   "source": [
    "def f(x):\n",
    "    return math.cos(x**2) * x\n",
    "def t(x):\n",
    "    return math.cos(x)*(x**2)"
   ]
  },
  {
   "attachments": {
    "image.png": {
     "image/png": "[encoded data removed]"
    }
   },
   "cell_type": "markdown",
   "metadata": {},
   "source": [
    "![image.png](attachment:image.png)"
   ]
  },
  {
   "cell_type": "code",
   "execution_count": null,
   "metadata": {},
   "outputs": [],
   "source": [
    "import numpy as np\n",
    "\n",
    "def SimpsonCompuesta(a, b, n, f):\n",
    "    \n",
    "    if n % 2 != 0:\n",
    "        raise ValueError(\"El número de intervalos n debe ser par.\")\n",
    "\n",
    "    h = (b - a) / n \n",
    "    x = np.linspace(a, b, n + 1)  \n",
    "    suma = 0\n",
    "    \n",
    "    for i in range(1, n, 2):\n",
    "        suma += 4 * f(x[i])\n",
    "    for i in range(2, n - 1, 2):\n",
    "        suma += 2 * f(x[i])\n",
    "\n",
    "    integral = (h / 3) * (f(x[0]) + suma + f(x[-1]))  # Calcular la integral\n",
    "\n",
    "    print(\"integral:\", integral)\n",
    "    return integral\n",
    "\n",
    "def g(x):\n",
    "    return 0.2 + 25 * x - 200 * x**2 + 675 * x**3 - 900 * x**4 + 400 * x**5\n",
    "\n",
    "# Ejemplo de uso:\n",
    "SimpsonCompuesta(0, 0.8, 10, g)\n"
   ]
  },
  {
   "cell_type": "code",
   "execution_count": null,
   "metadata": {},
   "outputs": [],
   "source": [
    "a=0\n",
    "b=np.pi\n",
    "n=10\n",
    "e=0.000001\n",
    "SimpsonCompuesta(a,b,n,t)"
   ]
  },
  {
   "cell_type": "code",
   "execution_count": null,
   "metadata": {},
   "outputs": [],
   "source": [
    "a=0\n",
    "b=np.pi\n",
    "n=10\n",
    "e=0.000001\n",
    "SimpsonCompuesta(a,b,n,f)"
   ]
  }
 ],
 "metadata": {
  "kernelspec": {
   "display_name": "Python 3",
   "language": "python",
   "name": "python3"
  },
  "language_info": {
   "codemirror_mode": {
    "name": "ipython",
    "version": 3
   },
   "file_extension": ".py",
   "mimetype": "text/x-python",
   "name": "python",
   "nbconvert_exporter": "python",
   "pygments_lexer": "ipython3",
   "version": "3.11.3"
  }
 },
 "nbformat": 4,
 "nbformat_minor": 2
}
