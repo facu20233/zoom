{
 "cells": [
  {
   "cell_type": "code",
   "execution_count": null,
   "metadata": {},
   "outputs": [],
   "source": [
    "import numpy as np\n",
    "import matplotlib.pyplot as plt\n",
    "\n",
    "def f(x):\n",
    "    return 3*x**2-np.exp(3)\n",
    "    \n",
    "x = np.linspace(5, -5, 100)\n",
    "y = f(x)\n",
    "\n",
    "plt.plot(x,y)\n",
    "plt.grid()\n",
    "plt.show()"
   ]
  },
  {
   "cell_type": "code",
   "execution_count": 16,
   "metadata": {},
   "outputs": [
    {
     "name": "stdout",
     "output_type": "stream",
     "text": [
      "[ 1.92650463 -0.12174479 -0.39409722]\n"
     ]
    }
   ],
   "source": [
    "import numpy as np\n",
    "\n",
    "def jacobi(a, b, x0, max, eps):\n",
    "    iter = 0\n",
    "    n = len(x0)\n",
    "    error = 2*eps\n",
    "    x1 = np.zeros(n)\n",
    "    \n",
    "    while(iter < max and error > eps):\n",
    "        iter = iter + 1 \n",
    "        \n",
    "        for i in range(n):\n",
    "            sum = 0\n",
    "            for j in range(n):\n",
    "                if(j != i):\n",
    "                    sum += a[i,j] *x0[j]\n",
    "        \n",
    "            x1[i] = (b[i] - sum) / a[i,i]\n",
    "        \n",
    "        error = np.linalg.norm((x1-x0), ord = np.inf) \n",
    "        x0 = x1.copy()\n",
    "   \n",
    "    print(x1)    \n",
    "\n",
    "a = np.array([[2, -1, 0], \n",
    "             [1, 6, -2],\n",
    "             [4, -3, 8]]) \n",
    "\n",
    "b = np.array([4, 2, 5])\n",
    "\n",
    "x0 = np.array([0, 0, 0], dtype=float)\n",
    "\n",
    "jacobi(a, b, x0, 10, 0.05)"
   ]
  },
  {
   "cell_type": "code",
   "execution_count": null,
   "metadata": {},
   "outputs": [],
   "source": [
    "import numpy as np\n",
    "\n",
    "def seidel(a, b, x0, max, esp):\n",
    "    n = len(x0)\n",
    "    x1 = x0.copy()\n",
    "    \n",
    "    for i in range(n):\n",
    "        sum = 0\n",
    "        for j in range(n):\n",
    "            if(i != j):\n",
    "                sum += a[i][j]*x1[j]\n",
    "        \n",
    "        x1 = (b[i]-sum) / a[i][i]"
   ]
  },
  {
   "cell_type": "code",
   "execution_count": null,
   "metadata": {},
   "outputs": [],
   "source": [
    "import numpy as np\n",
    "\n",
    "def sor(w, a, b, x0, max_iter, eps):\n",
    "    iter = 0\n",
    "    error = 2 * eps      \n",
    "    n = len(x0)\n",
    "    x1 = x0.copy()  # Copia el vector x0 para las actualizaciones\n",
    "\n",
    "    while (iter < max_iter and error > eps):\n",
    "        iter += 1\n",
    "        for i in range(n):\n",
    "            suma = 0\n",
    "            # Calcular la suma para la ecuación actual\n",
    "            for j in range(n):\n",
    "                if j != i:\n",
    "                    suma += a[i][j] * x1[j]\n",
    "            \n",
    "            x1[i] = (1 - w) * x0[i] + w/a[i, i] * ((b[i] - suma))\n",
    "            \n",
    "        error = np.linalg.norm(x1 - x0, ord=np.inf)\n",
    "        x0 = x1.copy()  # Actualiza x0 con la nueva solución\n",
    "        \n",
    "    if (iter >= max_iter):\n",
    "        print('El método no converge en el número máximo de iteraciones')\n",
    "    else:\n",
    "        print('El método converge en', iter, 'iteraciones')\n",
    "        print('La solución aproximada es:', x1)\n",
    "        \n",
    "\n",
    "# Ejemplo de uso\n",
    "a = np.array([[2, -1, 0],\n",
    "              [1, 6, -2],\n",
    "              [4, -3, 8]])\n",
    "\n",
    "b = np.array([4, 2, 5])\n",
    "\n",
    "x0 = np.array([0, 0, 0])\n",
    "\n",
    "sor(1.5, a, b, x0, 10, 0.05)\n"
   ]
  },
  {
   "cell_type": "code",
   "execution_count": null,
   "metadata": {},
   "outputs": [],
   "source": [
    "import numy as np\n",
    "\n",
    "def sor(w, A, b, x0 ,max, eps):\n",
    "    iter = 0\n",
    "    error = 2 * eps      \n",
    "    n = len(x0)\n",
    "    x1 = x0.copy() \n",
    "    \n",
    "    while(iter < max and error > eps):\n",
    "        iter += 1\n",
    "        \n",
    "        for i in range(n):\n",
    "            sum = 0\n",
    "            for j in range(n):\n",
    "                sum += a[i,j]*x1[j]\n",
    "            for j in range(n):\n",
    "                sum += a[i,j]*x0[j]\n",
    "                \n",
    "            x1[i] = (1-w)*x0[i] + (b[i]-sum)*w/A[i,i]          \n",
    "            \n",
    "a = np.array([[1, 2, 3],\n",
    "              [],\n",
    "              []])\n",
    "\n",
    "b = np.array([1,2,3])\n",
    "\n"
   ]
  }
 ],
 "metadata": {
  "kernelspec": {
   "display_name": "Python 3",
   "language": "python",
   "name": "python3"
  },
  "language_info": {
   "codemirror_mode": {
    "name": "ipython",
    "version": 3
   },
   "file_extension": ".py",
   "mimetype": "text/x-python",
   "name": "python",
   "nbconvert_exporter": "python",
   "pygments_lexer": "ipython3",
   "version": "3.11.3"
  }
 },
 "nbformat": 4,
 "nbformat_minor": 2
}
