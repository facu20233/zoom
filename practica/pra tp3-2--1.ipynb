{
 "cells": [
  {
   "cell_type": "code",
   "execution_count": 5,
   "metadata": {},
   "outputs": [
    {
     "name": "stdout",
     "output_type": "stream",
     "text": [
      "sol [-1.5 -2.   2. ]\n"
     ]
    }
   ],
   "source": [
    "import numpy as np\n",
    "\n",
    "def resolver_matriz_triangular_superior(a, b):\n",
    "    n = len(b)\n",
    "    x = np.zeros(n)\n",
    "    \n",
    "    #sust atras\n",
    "    for i in range(n-1, -1, -1):\n",
    "        x[i] = (b[i] - np.dot(a[i, i+1:], x[i+1:]))/ a[i,i] \n",
    "        \n",
    "    print('sol', x)\n",
    "\n",
    "# Ejemplo \n",
    "a = np.array([[2, -1, 3],\n",
    "              [0,  1, 4],\n",
    "              [0,  0, 2]])\n",
    "\n",
    "b = np.array([5, 6, 4])\n",
    "\n",
    "resolver_matriz_triangular_superior(a, b)"
   ]
  },
  {
   "cell_type": "code",
   "execution_count": 6,
   "metadata": {},
   "outputs": [
    {
     "name": "stdout",
     "output_type": "stream",
     "text": [
      "sol [-1.5 -2.   2. ]\n"
     ]
    }
   ],
   "source": [
    "import numpy as np\n",
    "\n",
    "def eliminacion_gauss(a, b):\n",
    "    \n",
    "    n = len(b)\n",
    "    \n",
    "    ab = np.hstack([a,b.reshape(-1,1)])\n",
    "    \n",
    "    for i in range(n):\n",
    "        if(ab[i,i] == 0):\n",
    "            raise ValueError(\"pivote 0\")\n",
    "        \n",
    "        for j in range (i+1, n):\n",
    "            m = ab[j,i] / ab[i,i]\n",
    "            ab[j, i:] = ab[j, i:] - m * ab[i,i:]\n",
    "      \n",
    "          \n",
    "    #sust atras\n",
    "    x = np.zeros(n)\n",
    "    for i in range(n-1, -1, -1):\n",
    "        x[i] = (b[i] - np.dot(a[i, i+1:], x[i+1:]))/ a[i,i]\n",
    "        \n",
    "    print('sol', x)\n",
    "    \n",
    "a = np.array([[2, -1, 3],\n",
    "              [0,  1, 4],\n",
    "              [0,  0, 2]]) \n",
    "\n",
    "b = np.array([5, 6, 4])\n",
    "\n",
    "eliminacion_gauss(a, b)"
   ]
  },
  {
   "cell_type": "code",
   "execution_count": 22,
   "metadata": {},
   "outputs": [
    {
     "name": "stdout",
     "output_type": "stream",
     "text": [
      "sol [ 0.  2. -1.]\n"
     ]
    }
   ],
   "source": [
    "import numpy as np\n",
    "\n",
    "def jordan(a, b):\n",
    "    \n",
    "    ab = np.hstack([a, b.reshape(-1,1)])\n",
    "    n = len(b)\n",
    "    \n",
    "    for i in range(n):\n",
    "        # suponiendo aii != 0\n",
    "        ab[i] = ab[i] / ab[i,i]\n",
    "        \n",
    "        for j in range(n):\n",
    "            if (j != i):\n",
    "                ab[j] = ab[j] - ab[j, i] * ab[i]\n",
    "                \n",
    "    x = ab[:, -1]\n",
    "    print('sol', x)\n",
    "    \n",
    "# ejemplo\n",
    "a = np.array([[2, -1, -2],\n",
    "              [-4, 6, 3],\n",
    "              [-4, -2, 8]], dtype=float)\n",
    "\n",
    "b = np.array([0, 9, -12], dtype=float)\n",
    "                \n",
    "jordan(a, b) \n",
    "    "
   ]
  },
  {
   "cell_type": "code",
   "execution_count": 21,
   "metadata": {},
   "outputs": [
    {
     "name": "stdout",
     "output_type": "stream",
     "text": [
      "[[ 2.  0.  0.]\n",
      " [ 6.  1.  0.]\n",
      " [-8.  5.  3.]]\n"
     ]
    }
   ],
   "source": [
    "import numpy as np\n",
    "\n",
    "def cholesky_decomposition(a):\n",
    "    n = len(a)\n",
    "    L = np.zeros_like(a)\n",
    "    \n",
    "    for k in range(n):\n",
    "        sum_diagonal = np.sum(L[k, :k]**2)\n",
    "        L[k,k] = np.sqrt(A[k,k] - sum_diagonal)\n",
    "        \n",
    "        for i in range(k+1, n):\n",
    "            sum_off_diagonal = np.sum(L[i, :k]*L[k, :k])\n",
    "            L[i, k] = (A[i,k]-sum_off_diagonal) / L[k,k]\n",
    "            \n",
    "    print(L)\n",
    "    \n",
    "# ej\n",
    "A = np.array([[4, 12, -16],\n",
    "              [12, 37, -43],\n",
    "              [-16, -43, 98]], dtype=float)\n",
    "\n",
    "cholesky_decomposition(A)"
   ]
  },
  {
   "cell_type": "code",
   "execution_count": null,
   "metadata": {},
   "outputs": [],
   "source": []
  }
 ],
 "metadata": {
  "kernelspec": {
   "display_name": "Python 3",
   "language": "python",
   "name": "python3"
  },
  "language_info": {
   "codemirror_mode": {
    "name": "ipython",
    "version": 3
   },
   "file_extension": ".py",
   "mimetype": "text/x-python",
   "name": "python",
   "nbconvert_exporter": "python",
   "pygments_lexer": "ipython3",
   "version": "3.11.3"
  }
 },
 "nbformat": 4,
 "nbformat_minor": 2
}
