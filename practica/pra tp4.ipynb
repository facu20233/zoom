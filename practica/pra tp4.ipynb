{
 "cells": [
  {
   "cell_type": "code",
   "execution_count": 4,
   "metadata": {},
   "outputs": [
    {
     "name": "stdout",
     "output_type": "stream",
     "text": [
      "integral 1.0688000000000115\n"
     ]
    }
   ],
   "source": [
    "import numpy as np\n",
    "\n",
    "def I_Tc(f, a, b, n):\n",
    "    \n",
    "    h = (b-a)/n\n",
    "    \n",
    "    sum = 0\n",
    "    for i in range(1, n):\n",
    "        xi = a + i * h\n",
    "        sum += f(xi)\n",
    "        \n",
    "    integral = h/2 * (f(a) + 2*sum + f(b))\n",
    "    print(\"integral\", integral)\n",
    "    \n",
    "def g(x):\n",
    "    return 0.2 + 25 * x - 200 * x**2 + 675 * x**3 - 900 * x**4 + 400 * x**5 \n",
    "\n",
    "# Ejemplo de uso:\n",
    "I_Tc(g ,0, 0.8, 2)\n"
   ]
  },
  {
   "cell_type": "code",
   "execution_count": null,
   "metadata": {},
   "outputs": [],
   "source": [
    "import numpy as np\n",
    "\n",
    "def I_sc(f, a, b, n):\n",
    "    \n",
    "    h = (b-a)/n\n",
    "    x = np.linspace(a, b, n + 1)  \n",
    "    \n",
    "    sum1=0\n",
    "    sum2=0\n",
    "    for i in range(1, n, 2):\n",
    "        sum1 += 4*f(x[i])\n",
    "    for i in range(2, n-1, 2):\n",
    "        sum1 += 2*f(x[i])\n",
    "        \n",
    "    integral = h/3 * (f(a) + 4*sum1 + 2*sum2 + f(b))\n",
    "    \n",
    "    print(\"integral:\", integral)"
   ]
  }
 ],
 "metadata": {
  "kernelspec": {
   "display_name": "Python 3",
   "language": "python",
   "name": "python3"
  },
  "language_info": {
   "codemirror_mode": {
    "name": "ipython",
    "version": 3
   },
   "file_extension": ".py",
   "mimetype": "text/x-python",
   "name": "python",
   "nbconvert_exporter": "python",
   "pygments_lexer": "ipython3",
   "version": "3.11.3"
  }
 },
 "nbformat": 4,
 "nbformat_minor": 2
}
