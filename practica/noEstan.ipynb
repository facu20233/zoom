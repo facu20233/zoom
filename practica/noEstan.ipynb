{
 "cells": [
  {
   "cell_type": "code",
   "execution_count": null,
   "metadata": {},
   "outputs": [],
   "source": [
    "import numpy as np\n",
    "\n",
    "def cholesky(a, b):\n",
    "    n = len(a)\n",
    "    l = np.zeros_like(a)\n",
    "    \n",
    "    sum1=0\n",
    "    sum2=0\n",
    "    \n",
    "    for i in range(1, n):\n",
    "        sum1 += l[i,k]**2\n",
    "    l[i,i] = np.sqrt(a[i,i]-sum1)\n",
    "    \n",
    "    for j in range(i+1, n):\n",
    "        sum2 += l[i,j]*l[j,k]\n",
    "    l[k,i] = a[k,i] - sum2\n",
    "    "
   ]
  },
  {
   "cell_type": "code",
   "execution_count": 1,
   "metadata": {},
   "outputs": [
    {
     "name": "stdout",
     "output_type": "stream",
     "text": [
      "Factorización de Cholesky (matriz L):\n",
      "[[ 2.44948974  0.          0.        ]\n",
      " [ 6.12372436  4.18330013  0.        ]\n",
      " [22.45365598 20.91650066  6.11010093]]\n"
     ]
    }
   ],
   "source": [
    "import numpy as np\n",
    "\n",
    "def cholesky(a):\n",
    "    n = len(a)\n",
    "    L = np.zeros_like(a)\n",
    "    \n",
    "    for i in range(n):\n",
    "        \n",
    "        sum1 = sum(L[i, k]**2 for k in range(i))\n",
    "        L[i, i] = np.sqrt(a[i, i] - sum1)\n",
    "        \n",
    "        for j in range(i + 1, n):\n",
    "            sum2 = sum(L[j, k] * L[i, k] for k in range(i))\n",
    "            L[j, i] = (a[j, i] - sum2) / L[i, i]\n",
    "    \n",
    "    return L\n",
    "\n",
    "# Ejemplo de uso\n",
    "A = np.array([[6, 15, 55],\n",
    "              [15, 55, 225],\n",
    "              [55, 225, 979]], dtype=\"float\")\n",
    "\n",
    "L = cholesky(A)\n",
    "print(\"Factorización de Cholesky (matriz L):\")\n",
    "print(L)\n"
   ]
  },
  {
   "cell_type": "code",
   "execution_count": null,
   "metadata": {},
   "outputs": [],
   "source": [
    "import numpy as np \n",
    "import matplotlib.pyplot as plt\n",
    "\n",
    "def lagrange(x, y, xx):\n",
    "    n = len(x)\n",
    "    sum = 0\n",
    "    for i in range(n):\n",
    "        product = y[i]\n",
    "        for j in range(n):\n",
    "            if j != i:\n",
    "             product *= (xx - x[i])/(x[j]-x[i])\n",
    "        sum += product\n",
    "    return sum  "
   ]
  },
  {
   "cell_type": "code",
   "execution_count": null,
   "metadata": {},
   "outputs": [],
   "source": [
    "import numpy as np\n",
    "\n",
    "def gauss_legendre(f, a, b, n):\n",
    "    \n",
    "    x = []\n",
    "    c = []\n",
    "    \n",
    "    sum1 = 0\n",
    "    for i in range(n):\n",
    "        sum1 += c[i]*f(b-a/2*x[i] + b+a/2)\n",
    "    integral = b-a/2 * sum1\n",
    "    \n",
    "    return integral"
   ]
  }
 ],
 "metadata": {
  "kernelspec": {
   "display_name": "Python 3",
   "language": "python",
   "name": "python3"
  },
  "language_info": {
   "codemirror_mode": {
    "name": "ipython",
    "version": 3
   },
   "file_extension": ".py",
   "mimetype": "text/x-python",
   "name": "python",
   "nbconvert_exporter": "python",
   "pygments_lexer": "ipython3",
   "version": "3.11.3"
  }
 },
 "nbformat": 4,
 "nbformat_minor": 2
}
