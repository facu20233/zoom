{
 "cells": [
  {
   "cell_type": "code",
   "execution_count": 1,
   "metadata": {},
   "outputs": [
    {
     "name": "stdout",
     "output_type": "stream",
     "text": [
      "Aproximación de cos(45.0°) usando serie de Taylor: 0.7071067811865475\n",
      "Valor exacto de cos(45.0°): 0.7071067811865476\n"
     ]
    }
   ],
   "source": [
    "import math\n",
    "\n",
    "def cos_taylor(x, terms=10):\n",
    "    \"\"\"\n",
    "    Calcula el valor de cos(x) usando la serie de Taylor.\n",
    "    \n",
    "    :param x: El valor en radianes para el cual calcular cos(x).\n",
    "    :param terms: El número de términos de la serie a usar.\n",
    "    :return: Aproximación de cos(x) usando la serie de Taylor.\n",
    "    \"\"\"\n",
    "    cos_x = 0\n",
    "    for n in range(terms):\n",
    "        # Calcula el término n de la serie\n",
    "        term = ((-1)**n * x**(2*n)) / math.factorial(2*n)\n",
    "        cos_x += term\n",
    "    return cos_x\n",
    "\n",
    "# Ejemplo de uso\n",
    "x = math.radians(45)  # Convertir grados a radianes\n",
    "approx_cos_x = cos_taylor(x, terms=10)\n",
    "exact_cos_x = math.cos(x)\n",
    "\n",
    "print(f\"Aproximación de cos({math.degrees(x)}°) usando serie de Taylor: {approx_cos_x}\")\n",
    "print(f\"Valor exacto de cos({math.degrees(x)}°): {exact_cos_x}\")\n"
   ]
  }
 ],
 "metadata": {
  "kernelspec": {
   "display_name": "Python 3",
   "language": "python",
   "name": "python3"
  },
  "language_info": {
   "codemirror_mode": {
    "name": "ipython",
    "version": 3
   },
   "file_extension": ".py",
   "mimetype": "text/x-python",
   "name": "python",
   "nbconvert_exporter": "python",
   "pygments_lexer": "ipython3",
   "version": "3.11.3"
  }
 },
 "nbformat": 4,
 "nbformat_minor": 2
}
