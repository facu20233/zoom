{
 "cells": [
  {
   "cell_type": "code",
   "execution_count": 1,
   "metadata": {},
   "outputs": [
    {
     "name": "stdout",
     "output_type": "stream",
     "text": [
      "Resultado de la integral: 1.8225777777644812\n"
     ]
    }
   ],
   "source": [
    "import numpy as np\n",
    "\n",
    "def gauss_legendre(func, a, b, n):\n",
    "    # Definir nodos y coeficientes según el valor de n\n",
    "    if n == 2:\n",
    "        x = np.array([-0.5773502692, 0.5773502692])\n",
    "        c = np.array([1.0, 1.0])\n",
    "    elif n == 3:\n",
    "        x = np.array([-0.7745966692, 0.0, 0.7745966692])\n",
    "        c = np.array([0.5555555556, 0.8888888889, 0.5555555556])\n",
    "    elif n == 4:\n",
    "        x = np.array([-0.8611363116, -0.3399810436, 0.3399810436, 0.8611363116])\n",
    "        c = np.array([0.3478548451, 0.6521451549, 0.6521451549, 0.3478548451])\n",
    "    else:\n",
    "        raise ValueError(\"erro\")\n",
    "    \n",
    "    integral = 0\n",
    "    for i in range(n):\n",
    "        \n",
    "        integral = integral + (b - a) / 2 * c[i] * func((b - a) / 2 * x[i] + (b + a) / 2)\n",
    "    \n",
    "    print(\"Resultado de la integral:\", integral)\n",
    "\n",
    "# Ejemplo de uso\n",
    "def f(x):\n",
    "    return 0.2 + 25*x - 200*x**2 + 675*x**3 - 900*x**4 + 400*x**5\n",
    "\n",
    "gauss_legendre(f, 0, 0.8, 2)\n"
   ]
  },
  {
   "cell_type": "code",
   "execution_count": null,
   "metadata": {},
   "outputs": [],
   "source": [
    "with open('archivo.txt', 'r') as archivo:\n",
    "    \n",
    "    contenido = archivo.read()\n",
    "\n",
    "print(contenido)"
   ]
  },
  {
   "cell_type": "markdown",
   "metadata": {},
   "source": [
    "-0.5773502692 1.0\n",
    " 0.5773502692 1.0"
   ]
  },
  {
   "cell_type": "code",
   "execution_count": null,
   "metadata": {},
   "outputs": [],
   "source": [
    "def leer_coeficientes(filename):\n",
    "    with open(filename, 'r') as file:\n",
    "        coeficientes = []\n",
    "        for line in file:\n",
    "            # Separar los nodos y coeficientes\n",
    "            nodo, coef = map(float, line.split())\n",
    "            coeficientes.append((nodo, coef))\n",
    "    return coeficientes\n",
    "\n",
    "# Ejemplo de uso\n",
    "filename = 'coeficientes.txt'\n",
    "coeficientes = leer_coeficientes(filename)\n",
    "\n",
    "for nodo, coef in coeficientes:\n",
    "    print(f\"Nodo: {nodo}, Coeficiente: {coef}\")\n",
    "\n",
    "# Supongamos que tienes una función para integrar:\n",
    "def gauss_legendre(func, a, b, coeficientes):\n",
    "    integral = 0\n",
    "    for nodo, coef in coeficientes:\n",
    "        integral += (b-a)/2 * coef * func((b-a)/2 * nodo + (b+a)/2)\n",
    "    return integral\n",
    "\n",
    "# Ejemplo de uso con la función gauss_legendre\n",
    "def f(x):\n",
    "    return x**2\n",
    "\n",
    "a = 0\n",
    "b = 1\n",
    "\n",
    "resultado = gauss_legendre(f, a, b, coeficientes)\n",
    "print(\"Resultado de la integral:\", resultado)\n"
   ]
  }
 ],
 "metadata": {
  "kernelspec": {
   "display_name": "Python 3",
   "language": "python",
   "name": "python3"
  },
  "language_info": {
   "codemirror_mode": {
    "name": "ipython",
    "version": 3
   },
   "file_extension": ".py",
   "mimetype": "text/x-python",
   "name": "python",
   "nbconvert_exporter": "python",
   "pygments_lexer": "ipython3",
   "version": "3.11.3"
  }
 },
 "nbformat": 4,
 "nbformat_minor": 2
}
