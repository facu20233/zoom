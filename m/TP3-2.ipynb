{
 "cells": [
  {
   "cell_type": "markdown",
   "id": "6366d366",
   "metadata": {},
   "source": [
    "3) Programe en Python el método Gauss-Seidel para:\n",
    "\n",
    "a) Resolver el sistema del punto 2.\n",
    "\n",
    "b) En el aula virtual, encontrará un enlace con distintos sistemas de ecuaciones lineales,\n",
    "incluyendo valores de la matriz A, el vector b y valores iniciales de Xo (delimitados por\n",
    "“,”). Investigue como leer un archivo de texto en Python.\n",
    "\n",
    "c) ¿Cómo modificaría el código para implementar el método de Gauss-Jacobi?"
   ]
  },
  {
   "cell_type": "code",
   "execution_count": 2,
   "id": "304e4e9b",
   "metadata": {},
   "outputs": [],
   "source": [
    "import numpy as np\n",
    "\n",
    "def gauss_seidel(A, b, x0, tol, max_iterations):\n",
    "    \"\"\"\n",
    "    Soluciona el sistema de ecuaciones Ax = b usando el método de Gauss-Seidel.\n",
    "    \n",
    "    Parámetros:\n",
    "    A : array_like\n",
    "        Matriz de coeficientes.\n",
    "    b : array_like\n",
    "        Vector de términos independientes.\n",
    "    x0 : array_like\n",
    "        Vector inicial.\n",
    "    tol : float\n",
    "        Tolerancia para el criterio de convergencia.\n",
    "    max_iterations : int\n",
    "        Número máximo de iteraciones.\n",
    "    \n",
    "    Retorna:\n",
    "    x : array_like\n",
    "        Vector solución.\n",
    "    \"\"\"\n",
    "    \n",
    "    n = len(b)\n",
    "    x = x0.copy()\n",
    "    \n",
    "    for k in range(max_iterations):\n",
    "        x_old = x.copy()\n",
    "        \n",
    "        for i in range(n):\n",
    "            sigma = 0\n",
    "            for j in range(n):\n",
    "                if j != i:\n",
    "                    sigma += A[i][j] * x[j]\n",
    "            x[i] = (b[i] - sigma) / A[i][i]\n",
    "        \n",
    "        # Verificar el criterio de convergencia\n",
    "        if np.linalg.norm(x - x_old, ord=np.inf) < tol:\n",
    "            print(f'Convergencia alcanzada en {k+1} iteraciones.')\n",
    "            return x\n",
    "    \n",
    "    print('Número máximo de iteraciones alcanzado sin convergencia.')\n",
    "    return x\n",
    "\n",
    "\n"
   ]
  },
  {
   "cell_type": "code",
   "execution_count": 3,
   "id": "12371d7d",
   "metadata": {},
   "outputs": [
    {
     "name": "stdout",
     "output_type": "stream",
     "text": [
      "Número máximo de iteraciones alcanzado sin convergencia.\n",
      "Solución: [ 0.58680556 -0.75665509  0.04785156]\n"
     ]
    }
   ],
   "source": [
    "# Datos\n",
    "\n",
    "# 2)\n",
    "A = np.array([[2, -1, 0],\n",
    "              [1, 6, -2],\n",
    "              [4, -3, 8]], dtype=float)\n",
    "\n",
    "b = np.array([2, -4, 5], dtype=float)\n",
    "\n",
    "# A = np.array([[6, -2, 1],\n",
    "#               [-2, 7, 2],\n",
    "#               [1, 2, -5]], dtype=float)\n",
    "\n",
    "# b = np.array([4, 1, -4.5], dtype=float)\n",
    "\n",
    "x0 = np.zeros(len(b))\n",
    "tol = 1e-6\n",
    "max_iterations = 3\n",
    "\n",
    "# llamar metodo\n",
    "x = gauss_seidel(A, b, x0, tol, max_iterations)\n",
    "print('Solución:', x)"
   ]
  },
  {
   "cell_type": "code",
   "execution_count": 1,
   "id": "660c22e4",
   "metadata": {},
   "outputs": [],
   "source": [
    "import numpy as np\n",
    "\n",
    "def sor(A, b, x0, tol, max_iterations, omega):\n",
    "    \"\"\"\n",
    "    Soluciona el sistema de ecuaciones Ax = b usando el método SOR.\n",
    "    \n",
    "    Parámetros:\n",
    "    A : array_like\n",
    "        Matriz de coeficientes.\n",
    "    b : array_like\n",
    "        Vector de términos independientes.\n",
    "    x0 : array_like\n",
    "        Vector inicial.\n",
    "    tol : float\n",
    "        Tolerancia para el criterio de convergencia.\n",
    "    max_iterations : int\n",
    "        Número máximo de iteraciones.\n",
    "    omega : float\n",
    "        Factor de relajación.\n",
    "    \n",
    "    Retorna:\n",
    "    x : array_like\n",
    "        Vector solución.\n",
    "    \"\"\"\n",
    "    \n",
    "    n = len(b)\n",
    "    x = x0.copy()\n",
    "    \n",
    "    for k in range(max_iterations):\n",
    "        x_old = x.copy()\n",
    "        \n",
    "        for i in range(n):\n",
    "            sigma = 0\n",
    "            for j in range(n):\n",
    "                if j != i:\n",
    "                    sigma += A[i][j] * x[j]\n",
    "            x[i] = (1 - omega) * x[i] + (omega * (b[i] - sigma) / A[i][i])\n",
    "        \n",
    "        # Verificar el criterio de convergencia\n",
    "        if np.linalg.norm(x - x_old, ord=np.inf) < tol:\n",
    "            print(f'Convergencia alcanzada en {k+1} iteraciones con ω={omega}.')\n",
    "            return x\n",
    "    \n",
    "    print(f'Número máximo de iteraciones alcanzado sin convergencia con ω={omega}.')\n",
    "    return x\n",
    "\n",
    "\n"
   ]
  },
  {
   "cell_type": "code",
   "execution_count": 22,
   "id": "f80a4b9e",
   "metadata": {},
   "outputs": [
    {
     "name": "stdout",
     "output_type": "stream",
     "text": [
      "Número máximo de iteraciones alcanzado sin convergencia con ω=1.4.\n",
      "Solución con ω= 1.4 : [-3.6648675  12.65089875  9.00604556]\n"
     ]
    }
   ],
   "source": [
    "# Datos del problema\n",
    "A = np.array([[4, 3, 0],\n",
    "              [3, 4, -1],\n",
    "              [0, -1, 4]], dtype=float)\n",
    "\n",
    "b = np.array([24, 30, 24], dtype=float)\n",
    "\n",
    "x0 = np.zeros(len(b))\n",
    "tol = 1e-6\n",
    "max_iterations = 4\n",
    "\n",
    "# diferentes valores de ω 1 - 1.4\n",
    "omega= 1.4\n",
    "\n",
    "x = sor(A, b, x0, tol, max_iterations, omega)\n",
    "print('Solución con ω=', omega, ':', x)"
   ]
  }
 ],
 "metadata": {
  "kernelspec": {
   "display_name": "Python 3 (ipykernel)",
   "language": "python",
   "name": "python3"
  },
  "language_info": {
   "codemirror_mode": {
    "name": "ipython",
    "version": 3
   },
   "file_extension": ".py",
   "mimetype": "text/x-python",
   "name": "python",
   "nbconvert_exporter": "python",
   "pygments_lexer": "ipython3",
   "version": "3.11.3"
  },
  "toc": {
   "base_numbering": 1,
   "nav_menu": {},
   "number_sections": true,
   "sideBar": true,
   "skip_h1_title": false,
   "title_cell": "Table of Contents",
   "title_sidebar": "Contents",
   "toc_cell": false,
   "toc_position": {},
   "toc_section_display": true,
   "toc_window_display": false
  }
 },
 "nbformat": 4,
 "nbformat_minor": 5
}
